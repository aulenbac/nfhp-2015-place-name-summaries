{
 "cells": [
  {
   "cell_type": "markdown",
   "metadata": {
    "collapsed": true
   },
   "source": [
    "## DRAFT: NFHP 2015 total stream kms that were scored in a Selected Spatial Unit\n",
    "#### Daniel Wieferich -USGS\n",
    "\n",
    "This notebook returns the number of stream kms within a spatial unit of interest (from the SFR placeNameLookup table).  Calculations include:\n",
    "    Total Stream Kms in spatial unit:\n",
    "    Total Stream Kms scored in NFHP:\n",
    "    \n",
    "    Eventually I would like to also include\n",
    "    Stream kms classed as river (>100km2): Avg NFHP Score, total kms scored vs. not\n",
    "    Stream kms classed as creek (<100km2): Avg NFHP Score, total kms scored vs. not\n",
    "\n",
    "\n",
    "\n",
    "This code is in progress and may change through time.\n",
    "\n",
    "#### Generalized Steps\n",
    "    #1.Access Data from GC2 (user or app passes in placeNameLookup and url specific to instance of gc2)\n",
    "    #2.Dispaly Data\n"
   ]
  },
  {
   "cell_type": "code",
   "execution_count": 1,
   "metadata": {
    "collapsed": true
   },
   "outputs": [],
   "source": [
    "def requestData(url, place):\n",
    "    import requests\n",
    "    \n",
    "    query_disturbance = url+\"?q=select place_name, scored_km, not_scored_km \\\n",
    "    from nfhp.hci2015_summaries_mp where source_id='\" + place + \"'\"\n",
    "    \n",
    "    hci_disturbance = requests.get(url=query_disturbance).json()\n",
    "    data = hci_disturbance['features'][0]['properties']\n",
    "   \n",
    "    return (data)"
   ]
  },
  {
   "cell_type": "code",
   "execution_count": 2,
   "metadata": {},
   "outputs": [
    {
     "name": "stdout",
     "output_type": "stream",
     "text": [
      "{'place_name': 'Buenos Aires National Wildlife Refuge', 'scored_km': '453.743', 'not_scored_km': '41.735'}\n"
     ]
    }
   ],
   "source": [
    "#### Step 1: Request Data from GC2\n",
    "\n",
    "url = 'https://beta-gc2.datadistillery.org/api/v1/sql/bcb'\n",
    "place = 'doi lands:5324'\n",
    "\n",
    "data = requestData (url, place)\n",
    "print (data)"
   ]
  },
  {
   "cell_type": "markdown",
   "metadata": {
    "collapsed": true
   },
   "source": [
    "#### Step 2: Data to display\n"
   ]
  },
  {
   "cell_type": "code",
   "execution_count": 3,
   "metadata": {},
   "outputs": [
    {
     "name": "stdout",
     "output_type": "stream",
     "text": [
      "Fish habitat condition was scored on 453.743 of 495.478 NHDPlusV1 stream kms within Buenos Aires National Wildlife Refuge.\n"
     ]
    }
   ],
   "source": [
    "#Dispaly the following information:\n",
    "\n",
    "#Add scored and unscored kms to get total kms within spatial unit.\n",
    "total_km = str(float(data['scored_km']) + float(data['not_scored_km']))\n",
    "\n",
    "print ('Fish habitat condition was scored on ' + data['scored_km'] + ' of ' +total_km + ' NHDPlusV1 stream kms within ' + data['place_name']+'.' )"
   ]
  },
  {
   "cell_type": "markdown",
   "metadata": {
    "collapsed": true
   },
   "source": [
    "#Note within the larger NFHP BAP this could be displayed directly under the title of the BAP to give a user an understanding of the BAP."
   ]
  }
 ],
 "metadata": {
  "kernelspec": {
   "display_name": "Python 3",
   "language": "python",
   "name": "python3"
  },
  "language_info": {
   "codemirror_mode": {
    "name": "ipython",
    "version": 3
   },
   "file_extension": ".py",
   "mimetype": "text/x-python",
   "name": "python",
   "nbconvert_exporter": "python",
   "pygments_lexer": "ipython3",
   "version": "3.6.1"
  }
 },
 "nbformat": 4,
 "nbformat_minor": 2
}
