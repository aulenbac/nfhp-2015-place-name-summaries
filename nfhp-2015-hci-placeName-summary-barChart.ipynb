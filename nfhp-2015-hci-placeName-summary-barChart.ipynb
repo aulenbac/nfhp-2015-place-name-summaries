{
 "cells": [
  {
   "cell_type": "code",
   "execution_count": null,
   "metadata": {
    "collapsed": true
   },
   "outputs": [],
   "source": [
    "# Python 3.6.1\n",
    "\n",
    "# import packages\n",
    "import requests\n",
    "import numpy as np\n",
    "import pandas as pd\n",
    "from bis2 import gc2\n",
    "from collections import OrderedDict \n",
    "from bokeh.io import output_notebook\n",
    "from bokeh.plotting import figure, show"
   ]
  },
  {
   "cell_type": "code",
   "execution_count": null,
   "metadata": {
    "collapsed": true
   },
   "outputs": [],
   "source": [
    "#Define database information needed for the notebook to run\n",
    "#This currently requires the bis2 package, which is \n",
    "thisRun = {}\n",
    "thisRun['url'] = gc2.baseURLs[\"sqlapi_datadistillery_bcb_beta\"]\n",
    "\n",
    "thisRun['fromSchema'] = 'nfhp.'\n",
    "thisRun['fromTable'] = 'hci2015_summaries_mp'\n",
    "\n",
    "thisRun['fromSchemaTable'] = thisRun['fromSchema']+thisRun['fromTable']"
   ]
  },
  {
   "cell_type": "code",
   "execution_count": null,
   "metadata": {
    "collapsed": true
   },
   "outputs": [],
   "source": [
    "#Function that passes base url, table and place of interst (supplied from user or application) \n",
    "#to extract summarized information of interest from the BIS database (GC2).\n",
    "\n",
    "def requestHci(url, fromTable, place):\n",
    "    import requests\n",
    "    \n",
    "    queryHci = url+\"?q=select place_name, scored_km, not_scored_km, verylow_km, low_km, moderate_km, high_km, veryhigh_km \\\n",
    "    from \" + fromTable + \" where source_id='\" + place + \"'\"\n",
    "    \n",
    "    hciRequest = requests.get(url=queryHci, verify=True).json()\n",
    "    data = hciRequest['features'][0]['properties']\n",
    "    title = 'Risk to Fish Habitat Degradation in '+ str(data['place_name'] + ' Streams')\n",
    "    \n",
    "    #Reorganize data into dictionary that will support display using bokeh bar chart\n",
    "    summary_dict = OrderedDict([('risk',0)])\n",
    "    summary_dict['risk'] = OrderedDict([ ('veryLow',((float(data['verylow_km']))/(float(data['scored_km'])))*100),\n",
    "('low',((float(data['low_km']))/(float(data['scored_km'])))*100),\n",
    "('moderate',((float(data['moderate_km']))/(float(data['scored_km'])))*100),\n",
    "('high',((float(data['high_km']))/(float(data['scored_km'])))*100),\n",
    "('veryHigh',((float(data['veryhigh_km']))/(float(data['scored_km'])))*100)])\n",
    "    \n",
    "    #Send reorganized data into pandas dataframe\n",
    "    dataDf = pd.DataFrame(summary_dict, index=summary_dict['risk'].keys()) \n",
    "    \n",
    "    return dataDf, title"
   ]
  },
  {
   "cell_type": "code",
   "execution_count": null,
   "metadata": {},
   "outputs": [],
   "source": [
    "place_source_id = 'gu_state:783534a7-82aa-4a24-9eb4-3a6549f1b295'\n",
    "\n",
    "dataDf, title = requestHci(thisRun['url'],thisRun['fromSchemaTable'], place_source_id)\n",
    "\n",
    "dataDf"
   ]
  },
  {
   "cell_type": "code",
   "execution_count": null,
   "metadata": {},
   "outputs": [],
   "source": [
    "# Create Bokeh Bar Chart using dataframe\n",
    "\n",
    "series = dataDf.loc[:,'risk']\n",
    "\n",
    "p = figure(width=800, height=600, y_range=series.index.tolist())\n",
    "p.background_fill_color = \"white\"\n",
    "p.grid.grid_line_alpha=1.0\n",
    "p.grid.grid_line_color = None\n",
    "p.xaxis.axis_label = 'Percentage of NFHP Scored Stream Kms [%]'\n",
    "p.xaxis.axis_label_text_font_size = '14pt'\n",
    "p.xaxis.major_label_text_font_size = '14pt'\n",
    "p.yaxis.major_label_text_font_size = '14pt'\n",
    "p.yaxis.axis_label = 'Risk to Fish Habitat Degradation'\n",
    "p.yaxis.axis_label_text_font_size = '14pt'\n",
    "\n",
    "p.title.text = title\n",
    "p.title.align = \"center\"\n",
    "p.title.text_color = \"orange\"\n",
    "p.title.text_font_size = \"22px\"\n",
    "\n",
    "# bar colors\n",
    "bcolors = ['violet', 'cyan', '#a1dab4','orange', 'red']\n",
    "\n",
    "# plot order\n",
    "order = ['veryLow','low','moderate','high','veryHigh']\n",
    "\n",
    "j = 1\n",
    "for k in order: #[::-1]:\n",
    "    v = series[k]\n",
    "#   print (k,v,j)\n",
    "    p.rect(x=v/2, y=j, width=abs(v), height=0.8,color=bcolors[j-1],\n",
    "    width_units=\"data\", height_units=\"data\")\n",
    "    j += 1\n",
    "    \n",
    "output_notebook()\n",
    "show(p)\n",
    "\n",
    "\n"
   ]
  }
 ],
 "metadata": {
  "kernelspec": {
   "display_name": "Python 3",
   "language": "python",
   "name": "python3"
  },
  "language_info": {
   "codemirror_mode": {
    "name": "ipython",
    "version": 3
   },
   "file_extension": ".py",
   "mimetype": "text/x-python",
   "name": "python",
   "nbconvert_exporter": "python",
   "pygments_lexer": "ipython3",
   "version": "3.6.1"
  }
 },
 "nbformat": 4,
 "nbformat_minor": 2
}
